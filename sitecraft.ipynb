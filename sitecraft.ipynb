{
 "cells": [
  {
   "cell_type": "code",
   "execution_count": 1,
   "id": "b828a570-6a52-404c-b7e0-55affe27970b",
   "metadata": {
    "collapsed": true,
    "jupyter": {
     "outputs_hidden": true
    }
   },
   "outputs": [
    {
     "name": "stdout",
     "output_type": "stream",
     "text": [
      "Requirement already satisfied: gradio in c:\\users\\aryal\\anaconda\\envs\\llms\\lib\\site-packages (5.44.1)\n",
      "Requirement already satisfied: google-generativeai in c:\\users\\aryal\\anaconda\\envs\\llms\\lib\\site-packages (0.8.5)\n",
      "Requirement already satisfied: aiofiles<25.0,>=22.0 in c:\\users\\aryal\\anaconda\\envs\\llms\\lib\\site-packages (from gradio) (24.1.0)\n",
      "Requirement already satisfied: anyio<5.0,>=3.0 in c:\\users\\aryal\\anaconda\\envs\\llms\\lib\\site-packages (from gradio) (4.9.0)\n",
      "Requirement already satisfied: brotli>=1.1.0 in c:\\users\\aryal\\anaconda\\envs\\llms\\lib\\site-packages (from gradio) (1.1.0)\n",
      "Requirement already satisfied: fastapi<1.0,>=0.115.2 in c:\\users\\aryal\\anaconda\\envs\\llms\\lib\\site-packages (from gradio) (0.115.9)\n",
      "Requirement already satisfied: ffmpy in c:\\users\\aryal\\anaconda\\envs\\llms\\lib\\site-packages (from gradio) (0.6.0)\n",
      "Requirement already satisfied: gradio-client==1.12.1 in c:\\users\\aryal\\anaconda\\envs\\llms\\lib\\site-packages (from gradio) (1.12.1)\n",
      "Requirement already satisfied: groovy~=0.1 in c:\\users\\aryal\\anaconda\\envs\\llms\\lib\\site-packages (from gradio) (0.1.2)\n",
      "Requirement already satisfied: httpx<1.0,>=0.24.1 in c:\\users\\aryal\\anaconda\\envs\\llms\\lib\\site-packages (from gradio) (0.28.1)\n",
      "Requirement already satisfied: huggingface-hub<1.0,>=0.33.5 in c:\\users\\aryal\\anaconda\\envs\\llms\\lib\\site-packages (from gradio) (0.34.4)\n",
      "Requirement already satisfied: jinja2<4.0 in c:\\users\\aryal\\anaconda\\envs\\llms\\lib\\site-packages (from gradio) (3.1.6)\n",
      "Requirement already satisfied: markupsafe<4.0,>=2.0 in c:\\users\\aryal\\anaconda\\envs\\llms\\lib\\site-packages (from gradio) (3.0.2)\n",
      "Requirement already satisfied: numpy<3.0,>=1.0 in c:\\users\\aryal\\anaconda\\envs\\llms\\lib\\site-packages (from gradio) (1.26.4)\n",
      "Requirement already satisfied: orjson~=3.0 in c:\\users\\aryal\\anaconda\\envs\\llms\\lib\\site-packages (from gradio) (3.10.18)\n",
      "Requirement already satisfied: packaging in c:\\users\\aryal\\anaconda\\envs\\llms\\lib\\site-packages (from gradio) (24.2)\n",
      "Requirement already satisfied: pandas<3.0,>=1.0 in c:\\users\\aryal\\anaconda\\envs\\llms\\lib\\site-packages (from gradio) (2.3.2)\n",
      "Requirement already satisfied: pillow<12.0,>=8.0 in c:\\users\\aryal\\anaconda\\envs\\llms\\lib\\site-packages (from gradio) (11.2.1)\n",
      "Requirement already satisfied: pydantic<2.12,>=2.0 in c:\\users\\aryal\\anaconda\\envs\\llms\\lib\\site-packages (from gradio) (2.11.7)\n",
      "Requirement already satisfied: pydub in c:\\users\\aryal\\anaconda\\envs\\llms\\lib\\site-packages (from gradio) (0.25.1)\n",
      "Requirement already satisfied: python-multipart>=0.0.18 in c:\\users\\aryal\\anaconda\\envs\\llms\\lib\\site-packages (from gradio) (0.0.20)\n",
      "Requirement already satisfied: pyyaml<7.0,>=5.0 in c:\\users\\aryal\\anaconda\\envs\\llms\\lib\\site-packages (from gradio) (6.0.2)\n",
      "Requirement already satisfied: ruff>=0.9.3 in c:\\users\\aryal\\anaconda\\envs\\llms\\lib\\site-packages (from gradio) (0.12.1)\n",
      "Requirement already satisfied: safehttpx<0.2.0,>=0.1.6 in c:\\users\\aryal\\anaconda\\envs\\llms\\lib\\site-packages (from gradio) (0.1.6)\n",
      "Requirement already satisfied: semantic-version~=2.0 in c:\\users\\aryal\\anaconda\\envs\\llms\\lib\\site-packages (from gradio) (2.10.0)\n",
      "Requirement already satisfied: starlette<1.0,>=0.40.0 in c:\\users\\aryal\\anaconda\\envs\\llms\\lib\\site-packages (from gradio) (0.45.3)\n",
      "Requirement already satisfied: tomlkit<0.14.0,>=0.12.0 in c:\\users\\aryal\\anaconda\\envs\\llms\\lib\\site-packages (from gradio) (0.13.3)\n",
      "Requirement already satisfied: typer<1.0,>=0.12 in c:\\users\\aryal\\anaconda\\envs\\llms\\lib\\site-packages (from gradio) (0.16.0)\n",
      "Requirement already satisfied: typing-extensions~=4.0 in c:\\users\\aryal\\anaconda\\envs\\llms\\lib\\site-packages (from gradio) (4.14.0)\n",
      "Requirement already satisfied: uvicorn>=0.14.0 in c:\\users\\aryal\\anaconda\\envs\\llms\\lib\\site-packages (from gradio) (0.34.3)\n",
      "Requirement already satisfied: fsspec in c:\\users\\aryal\\anaconda\\envs\\llms\\lib\\site-packages (from gradio-client==1.12.1->gradio) (2025.3.0)\n",
      "Requirement already satisfied: websockets<16.0,>=10.0 in c:\\users\\aryal\\anaconda\\envs\\llms\\lib\\site-packages (from gradio-client==1.12.1->gradio) (15.0.1)\n",
      "Requirement already satisfied: idna>=2.8 in c:\\users\\aryal\\anaconda\\envs\\llms\\lib\\site-packages (from anyio<5.0,>=3.0->gradio) (3.10)\n",
      "Requirement already satisfied: sniffio>=1.1 in c:\\users\\aryal\\anaconda\\envs\\llms\\lib\\site-packages (from anyio<5.0,>=3.0->gradio) (1.3.1)\n",
      "Requirement already satisfied: certifi in c:\\users\\aryal\\anaconda\\envs\\llms\\lib\\site-packages (from httpx<1.0,>=0.24.1->gradio) (2025.8.3)\n",
      "Requirement already satisfied: httpcore==1.* in c:\\users\\aryal\\anaconda\\envs\\llms\\lib\\site-packages (from httpx<1.0,>=0.24.1->gradio) (1.0.9)\n",
      "Requirement already satisfied: h11>=0.16 in c:\\users\\aryal\\anaconda\\envs\\llms\\lib\\site-packages (from httpcore==1.*->httpx<1.0,>=0.24.1->gradio) (0.16.0)\n",
      "Requirement already satisfied: filelock in c:\\users\\aryal\\anaconda\\envs\\llms\\lib\\site-packages (from huggingface-hub<1.0,>=0.33.5->gradio) (3.18.0)\n",
      "Requirement already satisfied: requests in c:\\users\\aryal\\anaconda\\envs\\llms\\lib\\site-packages (from huggingface-hub<1.0,>=0.33.5->gradio) (2.32.5)\n",
      "Requirement already satisfied: tqdm>=4.42.1 in c:\\users\\aryal\\anaconda\\envs\\llms\\lib\\site-packages (from huggingface-hub<1.0,>=0.33.5->gradio) (4.67.1)\n",
      "Requirement already satisfied: python-dateutil>=2.8.2 in c:\\users\\aryal\\anaconda\\envs\\llms\\lib\\site-packages (from pandas<3.0,>=1.0->gradio) (2.9.0.post0)\n",
      "Requirement already satisfied: pytz>=2020.1 in c:\\users\\aryal\\anaconda\\envs\\llms\\lib\\site-packages (from pandas<3.0,>=1.0->gradio) (2025.2)\n",
      "Requirement already satisfied: tzdata>=2022.7 in c:\\users\\aryal\\anaconda\\envs\\llms\\lib\\site-packages (from pandas<3.0,>=1.0->gradio) (2025.2)\n",
      "Requirement already satisfied: annotated-types>=0.6.0 in c:\\users\\aryal\\anaconda\\envs\\llms\\lib\\site-packages (from pydantic<2.12,>=2.0->gradio) (0.7.0)\n",
      "Requirement already satisfied: pydantic-core==2.33.2 in c:\\users\\aryal\\anaconda\\envs\\llms\\lib\\site-packages (from pydantic<2.12,>=2.0->gradio) (2.33.2)\n",
      "Requirement already satisfied: typing-inspection>=0.4.0 in c:\\users\\aryal\\anaconda\\envs\\llms\\lib\\site-packages (from pydantic<2.12,>=2.0->gradio) (0.4.1)\n",
      "Requirement already satisfied: click>=8.0.0 in c:\\users\\aryal\\anaconda\\envs\\llms\\lib\\site-packages (from typer<1.0,>=0.12->gradio) (8.1.8)\n",
      "Requirement already satisfied: shellingham>=1.3.0 in c:\\users\\aryal\\anaconda\\envs\\llms\\lib\\site-packages (from typer<1.0,>=0.12->gradio) (1.5.4)\n",
      "Requirement already satisfied: rich>=10.11.0 in c:\\users\\aryal\\anaconda\\envs\\llms\\lib\\site-packages (from typer<1.0,>=0.12->gradio) (14.0.0)\n",
      "Requirement already satisfied: google-ai-generativelanguage==0.6.15 in c:\\users\\aryal\\anaconda\\envs\\llms\\lib\\site-packages (from google-generativeai) (0.6.15)\n",
      "Requirement already satisfied: google-api-core in c:\\users\\aryal\\anaconda\\envs\\llms\\lib\\site-packages (from google-generativeai) (2.25.1)\n",
      "Requirement already satisfied: google-api-python-client in c:\\users\\aryal\\anaconda\\envs\\llms\\lib\\site-packages (from google-generativeai) (2.174.0)\n",
      "Requirement already satisfied: google-auth>=2.15.0 in c:\\users\\aryal\\anaconda\\envs\\llms\\lib\\site-packages (from google-generativeai) (2.40.3)\n",
      "Requirement already satisfied: protobuf in c:\\users\\aryal\\anaconda\\envs\\llms\\lib\\site-packages (from google-generativeai) (5.29.5)\n",
      "Requirement already satisfied: proto-plus<2.0.0dev,>=1.22.3 in c:\\users\\aryal\\anaconda\\envs\\llms\\lib\\site-packages (from google-ai-generativelanguage==0.6.15->google-generativeai) (1.26.1)\n",
      "Requirement already satisfied: googleapis-common-protos<2.0.0,>=1.56.2 in c:\\users\\aryal\\anaconda\\envs\\llms\\lib\\site-packages (from google-api-core->google-generativeai) (1.70.0)\n",
      "Requirement already satisfied: grpcio<2.0.0,>=1.33.2 in c:\\users\\aryal\\anaconda\\envs\\llms\\lib\\site-packages (from google-api-core[grpc]!=2.0.*,!=2.1.*,!=2.10.*,!=2.2.*,!=2.3.*,!=2.4.*,!=2.5.*,!=2.6.*,!=2.7.*,!=2.8.*,!=2.9.*,<3.0.0dev,>=1.34.1->google-ai-generativelanguage==0.6.15->google-generativeai) (1.73.1)\n",
      "Requirement already satisfied: grpcio-status<2.0.0,>=1.33.2 in c:\\users\\aryal\\anaconda\\envs\\llms\\lib\\site-packages (from google-api-core[grpc]!=2.0.*,!=2.1.*,!=2.10.*,!=2.2.*,!=2.3.*,!=2.4.*,!=2.5.*,!=2.6.*,!=2.7.*,!=2.8.*,!=2.9.*,<3.0.0dev,>=1.34.1->google-ai-generativelanguage==0.6.15->google-generativeai) (1.71.0)\n",
      "Requirement already satisfied: cachetools<6.0,>=2.0.0 in c:\\users\\aryal\\anaconda\\envs\\llms\\lib\\site-packages (from google-auth>=2.15.0->google-generativeai) (5.5.2)\n",
      "Requirement already satisfied: pyasn1-modules>=0.2.1 in c:\\users\\aryal\\anaconda\\envs\\llms\\lib\\site-packages (from google-auth>=2.15.0->google-generativeai) (0.4.2)\n",
      "Requirement already satisfied: rsa<5,>=3.1.4 in c:\\users\\aryal\\anaconda\\envs\\llms\\lib\\site-packages (from google-auth>=2.15.0->google-generativeai) (4.9.1)\n",
      "Requirement already satisfied: charset_normalizer<4,>=2 in c:\\users\\aryal\\anaconda\\envs\\llms\\lib\\site-packages (from requests->huggingface-hub<1.0,>=0.33.5->gradio) (3.4.2)\n",
      "Requirement already satisfied: urllib3<3,>=1.21.1 in c:\\users\\aryal\\anaconda\\envs\\llms\\lib\\site-packages (from requests->huggingface-hub<1.0,>=0.33.5->gradio) (2.5.0)\n",
      "Requirement already satisfied: pyasn1>=0.1.3 in c:\\users\\aryal\\anaconda\\envs\\llms\\lib\\site-packages (from rsa<5,>=3.1.4->google-auth>=2.15.0->google-generativeai) (0.6.1)\n",
      "Requirement already satisfied: colorama in c:\\users\\aryal\\anaconda\\envs\\llms\\lib\\site-packages (from click>=8.0.0->typer<1.0,>=0.12->gradio) (0.4.6)\n",
      "Requirement already satisfied: six>=1.5 in c:\\users\\aryal\\anaconda\\envs\\llms\\lib\\site-packages (from python-dateutil>=2.8.2->pandas<3.0,>=1.0->gradio) (1.17.0)\n",
      "Requirement already satisfied: markdown-it-py>=2.2.0 in c:\\users\\aryal\\anaconda\\envs\\llms\\lib\\site-packages (from rich>=10.11.0->typer<1.0,>=0.12->gradio) (3.0.0)\n",
      "Requirement already satisfied: pygments<3.0.0,>=2.13.0 in c:\\users\\aryal\\anaconda\\envs\\llms\\lib\\site-packages (from rich>=10.11.0->typer<1.0,>=0.12->gradio) (2.19.2)\n",
      "Requirement already satisfied: mdurl~=0.1 in c:\\users\\aryal\\anaconda\\envs\\llms\\lib\\site-packages (from markdown-it-py>=2.2.0->rich>=10.11.0->typer<1.0,>=0.12->gradio) (0.1.2)\n",
      "Requirement already satisfied: httplib2<1.0.0,>=0.19.0 in c:\\users\\aryal\\anaconda\\envs\\llms\\lib\\site-packages (from google-api-python-client->google-generativeai) (0.22.0)\n",
      "Requirement already satisfied: google-auth-httplib2<1.0.0,>=0.2.0 in c:\\users\\aryal\\anaconda\\envs\\llms\\lib\\site-packages (from google-api-python-client->google-generativeai) (0.2.0)\n",
      "Requirement already satisfied: uritemplate<5,>=3.0.1 in c:\\users\\aryal\\anaconda\\envs\\llms\\lib\\site-packages (from google-api-python-client->google-generativeai) (4.2.0)\n",
      "Requirement already satisfied: pyparsing!=3.0.0,!=3.0.1,!=3.0.2,!=3.0.3,<4,>=2.4.2 in c:\\users\\aryal\\anaconda\\envs\\llms\\lib\\site-packages (from httplib2<1.0.0,>=0.19.0->google-api-python-client->google-generativeai) (3.2.3)\n"
     ]
    }
   ],
   "source": [
    "!pip install gradio google-generativeai"
   ]
  },
  {
   "cell_type": "code",
   "execution_count": 23,
   "id": "b6d22c9b-c803-4ceb-ada4-90cfbaf1fee8",
   "metadata": {},
   "outputs": [],
   "source": [
    "# Imports\n",
    "\n",
    "import os\n",
    "import re\n",
    "import zipfile\n",
    "import gradio as gr\n",
    "from dotenv import load_dotenv\n",
    "import google.generativeai as genai\n",
    "import json, shutil, tempfile"
   ]
  },
  {
   "cell_type": "code",
   "execution_count": 24,
   "id": "e6030981-6746-4417-85fb-048afecbb4c7",
   "metadata": {},
   "outputs": [],
   "source": [
    "# Load API Key\n",
    "\n",
    "load_dotenv()\n",
    "GOOGLE_API_KEY = os.getenv(\"GOOGLE_API_KEY\")\n",
    "\n",
    "genai.configure(api_key=GOOGLE_API_KEY)\n",
    "model = genai.GenerativeModel(\"gemini-1.5-flash\")"
   ]
  },
  {
   "cell_type": "code",
   "execution_count": 25,
   "id": "598d5b75-8caf-411f-8e36-2ae3c31a958c",
   "metadata": {},
   "outputs": [],
   "source": [
    "# Predefined templates\n",
    "\n",
    "TEMPLATES = {\n",
    "    \"Portfolio\": \"Make a portfolio site with About, Projects, Contact sections.\",\n",
    "    \"Blog\": \"Make a blog site with posts, categories, and comments.\",\n",
    "    \"E-Commerce\": \"Make a store with product listing, cart, and checkout.\",\n",
    "    \"Landing Page\": \"Make a single-page landing site with hero, features, and contact form.\"\n",
    "}"
   ]
  },
  {
   "cell_type": "code",
   "execution_count": 26,
   "id": "cf5911d5-d7ed-499e-93d0-86004227364d",
   "metadata": {},
   "outputs": [],
   "source": [
    "def safe_json_loads(raw_text):\n",
    "    \"\"\"\n",
    "    Try to clean raw LLM output and parse JSON safely.\n",
    "    \"\"\"\n",
    "    if not raw_text or not raw_text.strip():\n",
    "        raise ValueError(\"Empty response from model\")\n",
    "\n",
    "    # Remove code block markers like ```json ... ```\n",
    "    cleaned = re.sub(r\"```(json|JSON)?\", \"\", raw_text)\n",
    "    cleaned = re.sub(r\"```\", \"\", cleaned)\n",
    "\n",
    "    # Strip leading/trailing whitespace\n",
    "    cleaned = cleaned.strip()\n",
    "\n",
    "    # Try parsing\n",
    "    return json.loads(cleaned)"
   ]
  },
  {
   "cell_type": "code",
   "execution_count": 29,
   "id": "71162f1b-808b-45bf-bc1e-abc3fc697283",
   "metadata": {},
   "outputs": [],
   "source": [
    "def generate_website(idea, template, color, font, layout):\n",
    "    if template != \"None\":\n",
    "        idea = TEMPLATES[template]\n",
    "\n",
    "    design = f\"\"\"\n",
    "    Design Preferences:\n",
    "    - Color scheme: {color if color else 'default'}\n",
    "    - Font: {font if font else 'default'}\n",
    "    - Layout: {layout if layout else 'default'}\n",
    "    \"\"\"\n",
    "\n",
    "    prompt = f\"\"\"\n",
    "    You are a website generator. Based on the user's idea, create a fully functional website.\n",
    "    \n",
    "    Output in JSON format with these keys:\n",
    "    - frontend: React + Tailwind code\n",
    "    - backend: Flask + SQLite code\n",
    "    - db_schema: SQLite schema.sql\n",
    "    - readme: Project setup instructions\n",
    "\n",
    "    User Idea: {idea}\n",
    "    {design}\n",
    "    \"\"\"\n",
    "\n",
    "    response = model.generate_content(prompt)\n",
    "    raw_text = response.text\n",
    "\n",
    "    try:\n",
    "        data = safe_json_loads(raw_text)\n",
    "    except Exception as e:\n",
    "        return (\n",
    "            f\"❌ Failed to parse AI response: {e}\",\n",
    "            \"\", \"\", \"\", \"\", None,\n",
    "            raw_text\n",
    "        )\n",
    "\n",
    "    # Save files into a temp project folder\n",
    "    tmpdir = tempfile.mkdtemp()\n",
    "    os.makedirs(f\"{tmpdir}/frontend\", exist_ok=True)\n",
    "    os.makedirs(f\"{tmpdir}/backend\", exist_ok=True)\n",
    "    os.makedirs(f\"{tmpdir}/db\", exist_ok=True)\n",
    "\n",
    "    with open(f\"{tmpdir}/frontend/App.jsx\", \"w\", encoding=\"utf-8\") as f:\n",
    "        f.write(str(data.get(\"frontend\", \"\")))\n",
    "\n",
    "    with open(f\"{tmpdir}/backend/server.py\", \"w\", encoding=\"utf-8\") as f:\n",
    "        f.write(str(data.get(\"backend\", \"\")))\n",
    "\n",
    "    with open(f\"{tmpdir}/db/schema.sql\", \"w\", encoding=\"utf-8\") as f:\n",
    "        f.write(str(data.get(\"db_schema\", \"\")))\n",
    "\n",
    "    with open(f\"{tmpdir}/README.md\", \"w\", encoding=\"utf-8\") as f:\n",
    "        f.write(str(data.get(\"readme\", \"\")))\n",
    "\n",
    "\n",
    "    # Zip project\n",
    "    zip_path = shutil.make_archive(\"website_project\", \"zip\", tmpdir)\n",
    "\n",
    "    return (\n",
    "        \"✅ Website generated successfully!\",\n",
    "        data.get(\"frontend\", \"\"),\n",
    "        data.get(\"backend\", \"\"),\n",
    "        data.get(\"db_schema\", \"\"),\n",
    "        data.get(\"readme\", \"\"),\n",
    "        zip_path,\n",
    "        raw_text\n",
    "    )"
   ]
  },
  {
   "cell_type": "code",
   "execution_count": 30,
   "id": "b58f2342-2fb7-45df-9efe-8cfb61fc6df8",
   "metadata": {},
   "outputs": [
    {
     "name": "stdout",
     "output_type": "stream",
     "text": [
      "* Running on local URL:  http://127.0.0.1:7867\n",
      "* To create a public link, set `share=True` in `launch()`.\n"
     ]
    },
    {
     "data": {
      "text/html": [
       "<div><iframe src=\"http://127.0.0.1:7867/\" width=\"100%\" height=\"500\" allow=\"autoplay; camera; microphone; clipboard-read; clipboard-write;\" frameborder=\"0\" allowfullscreen></iframe></div>"
      ],
      "text/plain": [
       "<IPython.core.display.HTML object>"
      ]
     },
     "metadata": {},
     "output_type": "display_data"
    },
    {
     "data": {
      "text/plain": []
     },
     "execution_count": 30,
     "metadata": {},
     "output_type": "execute_result"
    }
   ],
   "source": [
    "# Gradio UI\n",
    "with gr.Blocks(title=\"Sitecraft\") as demo:\n",
    "    with gr.Row():\n",
    "        with gr.Column():\n",
    "            gr.HTML(\"<h1 style='margin: 0; font-size: 2.2em; color: #2563eb; font-weight: 800; text-align:center;'>⚡<b>SiteCraft</b></h1>\")\n",
    "            gr.HTML(\"<p style='font-size: 1.2em; color: #374151; margin-top: 4px; text-align:center;'>Crafting websites with AI magic</p>\")\n",
    "    \n",
    "    with gr.Row():\n",
    "        idea = gr.Textbox(label=\"Describe your website idea\", placeholder=\"e.g., A portfolio site with 3 sections...\")\n",
    "        template = gr.Dropdown([\"None\"] + list(TEMPLATES.keys()), label=\"Or choose a template\")\n",
    "\n",
    "    with gr.Accordion(\"🎨 Design Preferences (optional)\", open=False):\n",
    "        color = gr.Textbox(label=\"Color Scheme\", placeholder=\"e.g., Blue & White\")\n",
    "        font = gr.Textbox(label=\"Font\", placeholder=\"e.g., Sans-serif, Roboto\")\n",
    "        layout = gr.Textbox(label=\"Layout\", placeholder=\"e.g., One-page scroll, Dashboard\")\n",
    "\n",
    "    btn = gr.Button(\"Generate Website\")\n",
    "\n",
    "    status = gr.Label()\n",
    "    with gr.Tab(\"Frontend (React + Tailwind)\"):\n",
    "        frontend_code = gr.Code(language=\"javascript\")\n",
    "    with gr.Tab(\"Backend (Flask + SQLite)\"):\n",
    "        backend_code = gr.Code(language=\"python\")\n",
    "    with gr.Tab(\"Database Schema\"):\n",
    "        db_code = gr.Code(language=\"sql\")\n",
    "    with gr.Tab(\"README\"):\n",
    "        readme_text = gr.Code(language=\"markdown\")\n",
    "    with gr.Tab(\"🔍 Debug (Raw LLM Response)\"):\n",
    "        debug_text = gr.Textbox(lines=15, interactive=False, label=\"Raw Response\")\n",
    "\n",
    "    file = gr.File(label=\"⬇️ Download Project\", type=\"filepath\")\n",
    "\n",
    "    btn.click(\n",
    "        fn=generate_website,\n",
    "        inputs=[idea, template, color, font, layout],\n",
    "        outputs=[status, frontend_code, backend_code, db_code, readme_text, file, debug_text]\n",
    "    )\n",
    "\n",
    "demo.launch()"
   ]
  },
  {
   "cell_type": "code",
   "execution_count": null,
   "id": "2cca0ddb-5416-462d-9832-8454a115518d",
   "metadata": {},
   "outputs": [],
   "source": []
  }
 ],
 "metadata": {
  "kernelspec": {
   "display_name": "Python 3 (ipykernel)",
   "language": "python",
   "name": "python3"
  },
  "language_info": {
   "codemirror_mode": {
    "name": "ipython",
    "version": 3
   },
   "file_extension": ".py",
   "mimetype": "text/x-python",
   "name": "python",
   "nbconvert_exporter": "python",
   "pygments_lexer": "ipython3",
   "version": "3.11.13"
  }
 },
 "nbformat": 4,
 "nbformat_minor": 5
}
